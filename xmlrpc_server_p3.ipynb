{
 "cells": [
  {
   "cell_type": "markdown",
   "metadata": {},
   "source": [
    "#### Файл сервера xmlrpc_server_p3.ipynb на Python 3 "
   ]
  },
  {
   "cell_type": "code",
   "execution_count": 1,
   "metadata": {},
   "outputs": [
    {
     "name": "stdout",
     "output_type": "stream",
     "text": [
      "Listening on port 8008...\n"
     ]
    },
    {
     "name": "stderr",
     "output_type": "stream",
     "text": [
      "127.0.0.1 - - [07/Nov/2023 19:08:58] \"POST /RPC2 HTTP/1.1\" 200 -\n",
      "127.0.0.1 - - [07/Nov/2023 19:09:01] \"POST /RPC2 HTTP/1.1\" 200 -\n",
      "127.0.0.1 - - [07/Nov/2023 19:09:04] \"POST /RPC2 HTTP/1.1\" 200 -\n",
      "127.0.0.1 - - [07/Nov/2023 19:09:07] \"POST /RPC2 HTTP/1.1\" 200 -\n",
      "127.0.0.1 - - [07/Nov/2023 19:09:10] \"POST /RPC2 HTTP/1.1\" 200 -\n",
      "127.0.0.1 - - [07/Nov/2023 19:09:13] \"POST /RPC2 HTTP/1.1\" 200 -\n",
      "127.0.0.1 - - [07/Nov/2023 19:09:16] \"POST /RPC2 HTTP/1.1\" 200 -\n",
      "127.0.0.1 - - [07/Nov/2023 19:09:20] \"POST /RPC2 HTTP/1.1\" 200 -\n",
      "127.0.0.1 - - [07/Nov/2023 19:09:23] \"POST /RPC2 HTTP/1.1\" 200 -\n",
      "127.0.0.1 - - [07/Nov/2023 19:09:26] \"POST /RPC2 HTTP/1.1\" 200 -\n",
      "127.0.0.1 - - [07/Nov/2023 19:09:29] \"POST /RPC2 HTTP/1.1\" 200 -\n",
      "127.0.0.1 - - [07/Nov/2023 19:09:33] \"POST /RPC2 HTTP/1.1\" 200 -\n",
      "127.0.0.1 - - [07/Nov/2023 19:09:39] \"POST /RPC2 HTTP/1.1\" 200 -\n",
      "127.0.0.1 - - [07/Nov/2023 19:09:44] \"POST /RPC2 HTTP/1.1\" 200 -\n",
      "127.0.0.1 - - [07/Nov/2023 19:09:48] \"POST /RPC2 HTTP/1.1\" 200 -\n",
      "127.0.0.1 - - [07/Nov/2023 19:09:52] \"POST /RPC2 HTTP/1.1\" 200 -\n"
     ]
    }
   ],
   "source": [
    "\n",
    "from xmlrpc.server import SimpleXMLRPCServer\n",
    "from xmlrpc.server import SimpleXMLRPCRequestHandler\n",
    "\n",
    "import xmlrpc.client\n",
    "import datetime\n",
    "import pickle\n",
    "\n",
    "\n",
    "class RequestHandler(SimpleXMLRPCRequestHandler):\n",
    "    rpc_paths = ('/RPC2',)\n",
    "\n",
    "MAX_LOG_LENGTH = 35\n",
    "\n",
    "server = SimpleXMLRPCServer((\"localhost\", 8008), \n",
    "                            requestHandler=RequestHandler,\n",
    "                            allow_none=True)\n",
    "\n",
    "server.register_introspection_functions()\n",
    "\n",
    "# Тест\n",
    "def ping():\n",
    "    return True\n",
    "server.register_function(ping, 'ping')\n",
    "\n",
    "# Время сервера\n",
    "def now():\n",
    "    return datetime.datetime.now()\n",
    "server.register_function(now, 'now')\n",
    "\n",
    "# Отображение строкового вида, типа и значений\n",
    "def show_type(arg):\n",
    "    return (str(arg), str(type(arg)), arg)\n",
    "server.register_function(show_type, 'type')\n",
    "\n",
    "# Сумма\n",
    "def test_sum(a, b):\n",
    "    return a + b\n",
    "server.register_function(test_sum, 'sum')\n",
    "\n",
    "# Степень\n",
    "def test_pow(a, b):\n",
    "    return a**b\n",
    "server.register_function(test_pow, 'pow')\n",
    "\n",
    "# Бинарная передача данных\n",
    "def send_back_binary(bin_data):\n",
    "    data = bin_data.data\n",
    "    return xmlrpc.client.Binary(data)\n",
    "server.register_function(send_back_binary, 'send_back_binary')\n",
    "\n",
    "# Инверсия цвета\n",
    "# На вход изображение со значениями цвета(ов) 0-255\n",
    "def send_back_inversion(bin_data):\n",
    "    img_arr = pickle.loads(bin_data.data)\n",
    "    img_arr = 255 - img_arr\n",
    "    pimg = pickle.dumps(img_arr)        \n",
    "    return xmlrpc.client.Binary(pimg)\n",
    "server.register_function(send_back_inversion, 'color_inversion')\n",
    "\n",
    "# Бинаризация по порогу\n",
    "def threshold_binarization(bin_data, threshold1: int, threshold2: int = None, threshold3: int = None):\n",
    "    img_arr = pickle.loads(bin_data.data)\n",
    "\n",
    "    # список из одинакового элемента в случае многоканального изображения и скаляр при одноканальном\n",
    "    threshold_value = [threshold1, threshold2, threshold3] if len(img_arr.shape) > 2 else threshold1\n",
    "    img_arr = (img_arr >= threshold_value) * 255\n",
    "    pimg = pickle.dumps(img_arr)\n",
    "    return xmlrpc.client.Binary(pimg)\n",
    "server.register_function(threshold_binarization, 'threshold_binarization')\n",
    "\n",
    "# Отражение по вертикали\n",
    "def vertical_reflect(bin_data):\n",
    "    img_arr = pickle.loads(bin_data.data)\n",
    "    img_arr = img_arr[:, ::-1]\n",
    "    pimg = pickle.dumps(img_arr)\n",
    "    return xmlrpc.client.Binary(pimg)\n",
    "server.register_function(vertical_reflect, 'vertical_reflect')\n",
    "\n",
    "\n",
    "print (\"Listening on port 8008...\")\n",
    "server.serve_forever()"
   ]
  }
 ],
 "metadata": {
  "kernelspec": {
   "display_name": "Python 3 (ipykernel)",
   "language": "python",
   "name": "python3"
  },
  "language_info": {
   "codemirror_mode": {
    "name": "ipython",
    "version": 3
   },
   "file_extension": ".py",
   "mimetype": "text/x-python",
   "name": "python",
   "nbconvert_exporter": "python",
   "pygments_lexer": "ipython3",
   "version": "3.11.4"
  }
 },
 "nbformat": 4,
 "nbformat_minor": 2
}
