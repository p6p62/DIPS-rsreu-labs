{
 "cells": [
  {
   "cell_type": "markdown",
   "metadata": {},
   "source": [
    "#### Файл сервера xmlrpc_server_p3.ipynb на Python 3 "
   ]
  },
  {
   "cell_type": "code",
   "execution_count": 1,
   "metadata": {},
   "outputs": [
    {
     "name": "stdout",
     "output_type": "stream",
     "text": [
      "Listening on port 8008...\n"
     ]
    },
    {
     "name": "stderr",
     "output_type": "stream",
     "text": [
      "127.0.0.1 - - [10/Oct/2023 18:10:23] \"POST /RPC2 HTTP/1.1\" 200 -\n"
     ]
    },
    {
     "name": "stdout",
     "output_type": "stream",
     "text": [
      "connection refused error\n"
     ]
    },
    {
     "name": "stderr",
     "output_type": "stream",
     "text": [
      "127.0.0.1 - - [10/Oct/2023 18:10:26] \"POST /RPC2 HTTP/1.1\" 200 -\n"
     ]
    },
    {
     "name": "stdout",
     "output_type": "stream",
     "text": [
      "connection refused error\n"
     ]
    },
    {
     "name": "stderr",
     "output_type": "stream",
     "text": [
      "127.0.0.1 - - [10/Oct/2023 18:10:29] \"POST /RPC2 HTTP/1.1\" 200 -\n"
     ]
    },
    {
     "name": "stdout",
     "output_type": "stream",
     "text": [
      "connection refused error\n"
     ]
    },
    {
     "name": "stderr",
     "output_type": "stream",
     "text": [
      "127.0.0.1 - - [10/Oct/2023 18:10:32] \"POST /RPC2 HTTP/1.1\" 200 -\n"
     ]
    },
    {
     "name": "stdout",
     "output_type": "stream",
     "text": [
      "connection refused error\n"
     ]
    },
    {
     "name": "stderr",
     "output_type": "stream",
     "text": [
      "127.0.0.1 - - [10/Oct/2023 18:10:35] \"POST /RPC2 HTTP/1.1\" 200 -\n"
     ]
    },
    {
     "name": "stdout",
     "output_type": "stream",
     "text": [
      "connection refused error\n"
     ]
    },
    {
     "name": "stderr",
     "output_type": "stream",
     "text": [
      "127.0.0.1 - - [10/Oct/2023 18:10:38] \"POST /RPC2 HTTP/1.1\" 200 -\n"
     ]
    },
    {
     "name": "stdout",
     "output_type": "stream",
     "text": [
      "connection refused error\n"
     ]
    },
    {
     "name": "stderr",
     "output_type": "stream",
     "text": [
      "127.0.0.1 - - [10/Oct/2023 18:10:41] \"POST /RPC2 HTTP/1.1\" 200 -\n"
     ]
    },
    {
     "name": "stdout",
     "output_type": "stream",
     "text": [
      "connection refused error\n"
     ]
    },
    {
     "name": "stderr",
     "output_type": "stream",
     "text": [
      "127.0.0.1 - - [10/Oct/2023 18:10:44] \"POST /RPC2 HTTP/1.1\" 200 -\n"
     ]
    },
    {
     "name": "stdout",
     "output_type": "stream",
     "text": [
      "connection refused error\n"
     ]
    },
    {
     "name": "stderr",
     "output_type": "stream",
     "text": [
      "127.0.0.1 - - [10/Oct/2023 18:10:47] \"POST /RPC2 HTTP/1.1\" 200 -\n"
     ]
    },
    {
     "name": "stdout",
     "output_type": "stream",
     "text": [
      "connection refused error\n"
     ]
    },
    {
     "name": "stderr",
     "output_type": "stream",
     "text": [
      "127.0.0.1 - - [10/Oct/2023 18:10:50] \"POST /RPC2 HTTP/1.1\" 200 -\n"
     ]
    },
    {
     "name": "stdout",
     "output_type": "stream",
     "text": [
      "connection refused error\n"
     ]
    },
    {
     "name": "stderr",
     "output_type": "stream",
     "text": [
      "127.0.0.1 - - [10/Oct/2023 18:10:53] \"POST /RPC2 HTTP/1.1\" 200 -\n"
     ]
    },
    {
     "name": "stdout",
     "output_type": "stream",
     "text": [
      "connection refused error\n"
     ]
    },
    {
     "name": "stderr",
     "output_type": "stream",
     "text": [
      "127.0.0.1 - - [10/Oct/2023 18:10:56] \"POST /RPC2 HTTP/1.1\" 200 -\n"
     ]
    },
    {
     "ename": "KeyboardInterrupt",
     "evalue": "",
     "output_type": "error",
     "traceback": [
      "\u001b[1;31m---------------------------------------------------------------------------\u001b[0m",
      "\u001b[1;31mKeyboardInterrupt\u001b[0m                         Traceback (most recent call last)",
      "Cell \u001b[1;32mIn[1], line 63\u001b[0m\n\u001b[0;32m     59\u001b[0m server\u001b[38;5;241m.\u001b[39mregister_function(test_pow, \u001b[38;5;124m'\u001b[39m\u001b[38;5;124mpow\u001b[39m\u001b[38;5;124m'\u001b[39m)\n\u001b[0;32m     62\u001b[0m \u001b[38;5;28mprint\u001b[39m (\u001b[38;5;124m\"\u001b[39m\u001b[38;5;124mListening on port 8008...\u001b[39m\u001b[38;5;124m\"\u001b[39m)\n\u001b[1;32m---> 63\u001b[0m server\u001b[38;5;241m.\u001b[39mserve_forever()\n",
      "File \u001b[1;32mC:\\ProgramData\\anaconda3\\Lib\\socketserver.py:233\u001b[0m, in \u001b[0;36mBaseServer.serve_forever\u001b[1;34m(self, poll_interval)\u001b[0m\n\u001b[0;32m    <a href='file:///c%3A/ProgramData/anaconda3/Lib/socketserver.py?line=229'>230</a>\u001b[0m selector\u001b[39m.\u001b[39mregister(\u001b[39mself\u001b[39m, selectors\u001b[39m.\u001b[39mEVENT_READ)\n\u001b[0;32m    <a href='file:///c%3A/ProgramData/anaconda3/Lib/socketserver.py?line=231'>232</a>\u001b[0m \u001b[39mwhile\u001b[39;00m \u001b[39mnot\u001b[39;00m \u001b[39mself\u001b[39m\u001b[39m.\u001b[39m__shutdown_request:\n\u001b[1;32m--> <a href='file:///c%3A/ProgramData/anaconda3/Lib/socketserver.py?line=232'>233</a>\u001b[0m     ready \u001b[39m=\u001b[39m selector\u001b[39m.\u001b[39mselect(poll_interval)\n\u001b[0;32m    <a href='file:///c%3A/ProgramData/anaconda3/Lib/socketserver.py?line=233'>234</a>\u001b[0m     \u001b[39m# bpo-35017: shutdown() called during select(), exit immediately.\u001b[39;00m\n\u001b[0;32m    <a href='file:///c%3A/ProgramData/anaconda3/Lib/socketserver.py?line=234'>235</a>\u001b[0m     \u001b[39mif\u001b[39;00m \u001b[39mself\u001b[39m\u001b[39m.\u001b[39m__shutdown_request:\n",
      "File \u001b[1;32mC:\\ProgramData\\anaconda3\\Lib\\selectors.py:323\u001b[0m, in \u001b[0;36mSelectSelector.select\u001b[1;34m(self, timeout)\u001b[0m\n\u001b[0;32m    <a href='file:///c%3A/ProgramData/anaconda3/Lib/selectors.py?line=320'>321</a>\u001b[0m ready \u001b[39m=\u001b[39m []\n\u001b[0;32m    <a href='file:///c%3A/ProgramData/anaconda3/Lib/selectors.py?line=321'>322</a>\u001b[0m \u001b[39mtry\u001b[39;00m:\n\u001b[1;32m--> <a href='file:///c%3A/ProgramData/anaconda3/Lib/selectors.py?line=322'>323</a>\u001b[0m     r, w, _ \u001b[39m=\u001b[39m \u001b[39mself\u001b[39m\u001b[39m.\u001b[39m_select(\u001b[39mself\u001b[39m\u001b[39m.\u001b[39m_readers, \u001b[39mself\u001b[39m\u001b[39m.\u001b[39m_writers, [], timeout)\n\u001b[0;32m    <a href='file:///c%3A/ProgramData/anaconda3/Lib/selectors.py?line=323'>324</a>\u001b[0m \u001b[39mexcept\u001b[39;00m \u001b[39mInterruptedError\u001b[39;00m:\n\u001b[0;32m    <a href='file:///c%3A/ProgramData/anaconda3/Lib/selectors.py?line=324'>325</a>\u001b[0m     \u001b[39mreturn\u001b[39;00m ready\n",
      "File \u001b[1;32mC:\\ProgramData\\anaconda3\\Lib\\selectors.py:314\u001b[0m, in \u001b[0;36mSelectSelector._select\u001b[1;34m(self, r, w, _, timeout)\u001b[0m\n\u001b[0;32m    <a href='file:///c%3A/ProgramData/anaconda3/Lib/selectors.py?line=312'>313</a>\u001b[0m \u001b[39mdef\u001b[39;00m \u001b[39m_select\u001b[39m(\u001b[39mself\u001b[39m, r, w, _, timeout\u001b[39m=\u001b[39m\u001b[39mNone\u001b[39;00m):\n\u001b[1;32m--> <a href='file:///c%3A/ProgramData/anaconda3/Lib/selectors.py?line=313'>314</a>\u001b[0m     r, w, x \u001b[39m=\u001b[39m select\u001b[39m.\u001b[39mselect(r, w, w, timeout)\n\u001b[0;32m    <a href='file:///c%3A/ProgramData/anaconda3/Lib/selectors.py?line=314'>315</a>\u001b[0m     \u001b[39mreturn\u001b[39;00m r, w \u001b[39m+\u001b[39m x, []\n",
      "\u001b[1;31mKeyboardInterrupt\u001b[0m: "
     ]
    }
   ],
   "source": [
    "\n",
    "from xmlrpc.server import SimpleXMLRPCServer\n",
    "from xmlrpc.server import SimpleXMLRPCRequestHandler\n",
    "\n",
    "import xmlrpc.client\n",
    "import datetime\n",
    "\n",
    "\n",
    "class RequestHandler(SimpleXMLRPCRequestHandler):\n",
    "    rpc_paths = ('/RPC2',)\n",
    "\n",
    "MAX_LOG_LENGTH = 35\n",
    "\n",
    "server = SimpleXMLRPCServer((\"localhost\", 8008), \n",
    "                            requestHandler=RequestHandler,\n",
    "                            allow_none=True)\n",
    "\n",
    "server.register_introspection_functions()\n",
    "\n",
    "stats_server = xmlrpc.client.ServerProxy(\"http://localhost:8018\")\n",
    "\n",
    "# Добавление в лог через сервер\n",
    "def add_log(log_line: str, max_log_length: int = 0) -> bool:\n",
    "    result = False\n",
    "    try:\n",
    "        stats_server.add_log(log_line, max_log_length)\n",
    "        result = True\n",
    "    except ConnectionRefusedError:\n",
    "        print('connection refused error')\n",
    "    return result\n",
    "\n",
    "# Тест\n",
    "def ping():\n",
    "    add_log('ping', MAX_LOG_LENGTH)\n",
    "    return True\n",
    "server.register_function(ping, 'ping')\n",
    "\n",
    "# Время сервера\n",
    "def now():\n",
    "    add_log('now', MAX_LOG_LENGTH)    \n",
    "    return datetime.datetime.now()\n",
    "server.register_function(now, 'now')\n",
    "\n",
    "# Отображение строкового вида, типа и значений\n",
    "def show_type(arg):\n",
    "    add_log('type', MAX_LOG_LENGTH)\n",
    "    return (str(arg), str(type(arg)), arg)\n",
    "server.register_function(show_type, 'type')\n",
    "\n",
    "# Сумма\n",
    "def test_sum(a, b):\n",
    "    add_log('sum')\n",
    "    return a + b\n",
    "server.register_function(test_sum, 'sum')\n",
    "\n",
    "# Степень\n",
    "def test_pow(a, b):\n",
    "    add_log('pow', MAX_LOG_LENGTH)\n",
    "    return a**b\n",
    "server.register_function(test_pow, 'pow')\n",
    "\n",
    "\n",
    "print (\"Listening on port 8008...\")\n",
    "server.serve_forever()"
   ]
  },
  {
   "cell_type": "code",
   "execution_count": null,
   "metadata": {},
   "outputs": [],
   "source": [
    "add_log('test')"
   ]
  }
 ],
 "metadata": {
  "kernelspec": {
   "display_name": "Python 3 (ipykernel)",
   "language": "python",
   "name": "python3"
  },
  "language_info": {
   "codemirror_mode": {
    "name": "ipython",
    "version": 3
   },
   "file_extension": ".py",
   "mimetype": "text/x-python",
   "name": "python",
   "nbconvert_exporter": "python",
   "pygments_lexer": "ipython3",
   "version": "3.11.4"
  }
 },
 "nbformat": 4,
 "nbformat_minor": 2
}
