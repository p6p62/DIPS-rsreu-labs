{
 "cells": [
  {
   "cell_type": "markdown",
   "metadata": {},
   "source": [
    "#### Файл сервера xmlrpc_stats_server_p3.ipynb на Python 3 "
   ]
  },
  {
   "cell_type": "code",
   "execution_count": 1,
   "metadata": {},
   "outputs": [],
   "source": [
    "from xmlrpc.server import SimpleXMLRPCServer\n",
    "from xmlrpc.server import SimpleXMLRPCRequestHandler\n",
    "\n",
    "import datetime\n",
    "import os\n",
    "\n",
    "import sqlite3"
   ]
  },
  {
   "cell_type": "code",
   "execution_count": 2,
   "metadata": {},
   "outputs": [],
   "source": [
    "LOG_BASE_NAME = \"log.db\"\n",
    "OPERATION_TYPE = \"operation_type\"\n",
    "DURATION = \"duration\"\n",
    "EVENT_TIME = \"event_time\"\n",
    "\n",
    "with sqlite3.connect(LOG_BASE_NAME) as connection:\n",
    "    cursor = connection.cursor()\n",
    "    cursor.execute(\n",
    "        f'''\n",
    "        CREATE TABLE IF NOT EXISTS LOG_TABLE (\n",
    "        {OPERATION_TYPE} TEXT NOT NULL,\n",
    "        {DURATION} REAL NOT NULL,\n",
    "        {EVENT_TIME} TEXT\n",
    "        )\n",
    "        ''')"
   ]
  },
  {
   "cell_type": "code",
   "execution_count": 3,
   "metadata": {},
   "outputs": [],
   "source": [
    "# cursor.execute(f'INSERT INTO LOG_TABLE ({OPERATION_TYPE}, {DURATION}, {EVENT_TIME}) VALUES (?, ?, ?)', ('pow', 28, '2023-10-25 18:09:40'))"
   ]
  },
  {
   "cell_type": "code",
   "execution_count": 4,
   "metadata": {},
   "outputs": [],
   "source": [
    "cursor.execute(f'SELECT * FROM LOG_TABLE')\n",
    "log_records = cursor.fetchall()\n",
    "for record in log_records:\n",
    "    print(record)"
   ]
  },
  {
   "cell_type": "code",
   "execution_count": 10,
   "metadata": {},
   "outputs": [
    {
     "data": {
      "text/plain": [
       "<function __main__.get_log_records(events: list[str], datetime_start: str, datetime_end: str)>"
      ]
     },
     "execution_count": 10,
     "metadata": {},
     "output_type": "execute_result"
    }
   ],
   "source": [
    "class RequestHandler(SimpleXMLRPCRequestHandler):\n",
    "    rpc_paths = ('/RPC2',)\n",
    "\n",
    "LOG_NAME = 'log.csv'\n",
    "\n",
    "server_stats = SimpleXMLRPCServer((\"localhost\", 8018), \n",
    "                            requestHandler=RequestHandler,\n",
    "                            allow_none=True)\n",
    "\n",
    "\n",
    "# Добавление строки в лог. max_log_length - максимальное количество записей журнала. 0 - нет ограничения\n",
    "def add_log(sname, execution_duration_ms, max_log_length):\n",
    "    if max_log_length > 0:\n",
    "        with open(LOG_NAME) as f:\n",
    "            full_log = f.readlines()\n",
    "        \n",
    "        # если есть ограничение, и оно превышено\n",
    "        if len(full_log) >= max_log_length:\n",
    "            filename = f'{datetime.datetime.now().strftime(\"%Y%m%d_%H%M%S\")}log.csv'\n",
    "            \n",
    "            # сохранение старого лога и обнуление файла\n",
    "            with open(filename, 'a') as f_save:\n",
    "                f_save.writelines(full_log)\n",
    "            with open(LOG_NAME, 'w'):\n",
    "                pass\n",
    "    with open(LOG_NAME, 'a') as f:\n",
    "        with sqlite3.connect(LOG_BASE_NAME) as log_base_connection:\n",
    "            cursor = log_base_connection.cursor()\n",
    "            cursor.execute(f'INSERT INTO LOG_TABLE ({OPERATION_TYPE}, {DURATION}, {EVENT_TIME}) VALUES (?, ?, ?)',\n",
    "                (str(sname), execution_duration_ms, datetime.datetime.now().strftime(\"%Y-%m-%d %H:%M:%S\")))\n",
    "                # f.write(f'{str(sname)}, {execution_duration_ms:2f}ms, {datetime.datetime.now().strftime(\"%Y-%m-%d %H:%M:%S\")}\\n')\n",
    "server_stats.register_function(add_log, 'add_log')\n",
    "\n",
    "def get_log_records(events: list[str], datetime_start: str, datetime_end: str):\n",
    "    def str_date_to_serverdate(date: str) -> str:\n",
    "        result = date.replace('-', '').replace(' ', '_').replace(':', '')\n",
    "        return result\n",
    "\n",
    "    # log_files_names = [*filter(lambda n: n.endswith(\".csv\"), os.listdir())]\n",
    "    # readed_files_names = [*filter(lambda f: (f == LOG_NAME) or (datetime_start <= str_date_to_serverdate(f.split(\"log\")[0]) <= datetime_end), log_files_names)]\n",
    "    # records = []\n",
    "    # for f in readed_files_names:\n",
    "    #     with open(f) as f:\n",
    "    #         records += [r.split(\"\\n\")[0] for r in f.readlines()]\n",
    "    # result = []\n",
    "    # for r in records:\n",
    "    #     operation, duration, date = r.split(', ')\n",
    "    #     if (datetime_start <= date <= datetime_end):\n",
    "    #         result += [[operation, duration, date]]\n",
    "\n",
    "    records_db = []\n",
    "    with sqlite3.connect(LOG_BASE_NAME) as log_base_connection:\n",
    "        cursor = log_base_connection.cursor()\n",
    "        cursor.execute(f'SELECT * FROM LOG_TABLE')\n",
    "        result = cursor.fetchall()\n",
    "        records_db = [*filter(lambda r: datetime_start <= r[2] <= datetime_end, result)]\n",
    "        cursor.close()\n",
    "    # print(records_db)\n",
    "    return records_db\n",
    "server_stats.register_function(get_log_records, 'get_log_records')\n"
   ]
  },
  {
   "cell_type": "code",
   "execution_count": null,
   "metadata": {},
   "outputs": [],
   "source": [
    "print (\"Listening on port 8018...\")\n",
    "server_stats.serve_forever()"
   ]
  },
  {
   "cell_type": "code",
   "execution_count": 12,
   "metadata": {},
   "outputs": [
    {
     "data": {
      "text/plain": [
       "[('type', 1004.1084289550781, '2023-11-07 16:28:29'),\n",
       " ('type', 1004.1489601135254, '2023-11-07 16:28:32'),\n",
       " ('type', 963.0069732666016, '2023-11-07 16:28:35'),\n",
       " ('sum', 1004.2221546173096, '2023-11-07 16:28:38'),\n",
       " ('pow', 1005.5267810821533, '2023-11-07 16:28:41')]"
      ]
     },
     "execution_count": 12,
     "metadata": {},
     "output_type": "execute_result"
    }
   ],
   "source": [
    "get_log_records([\"pow\", \"sum\"], \"2023-11-07 16:28:28\", \"3000\")"
   ]
  }
 ],
 "metadata": {
  "kernelspec": {
   "display_name": "Python 3 (ipykernel)",
   "language": "python",
   "name": "python3"
  },
  "language_info": {
   "codemirror_mode": {
    "name": "ipython",
    "version": 3
   },
   "file_extension": ".py",
   "mimetype": "text/x-python",
   "name": "python",
   "nbconvert_exporter": "python",
   "pygments_lexer": "ipython3",
   "version": "3.11.4"
  }
 },
 "nbformat": 4,
 "nbformat_minor": 2
}
