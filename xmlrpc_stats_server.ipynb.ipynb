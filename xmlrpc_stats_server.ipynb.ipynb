{
 "cells": [
  {
   "cell_type": "markdown",
   "metadata": {},
   "source": [
    "#### Файл сервера xmlrpc_stats_server_p3.ipynb на Python 3 "
   ]
  },
  {
   "cell_type": "code",
   "execution_count": 1,
   "metadata": {},
   "outputs": [
    {
     "name": "stdout",
     "output_type": "stream",
     "text": [
      "Listening on port 8018...\n"
     ]
    },
    {
     "name": "stderr",
     "output_type": "stream",
     "text": [
      "127.0.0.1 - - [25/Oct/2023 16:17:02] \"POST /RPC2 HTTP/1.1\" 200 -\n",
      "127.0.0.1 - - [25/Oct/2023 16:17:05] \"POST /RPC2 HTTP/1.1\" 200 -\n",
      "127.0.0.1 - - [25/Oct/2023 16:17:08] \"POST /RPC2 HTTP/1.1\" 200 -\n",
      "127.0.0.1 - - [25/Oct/2023 16:17:11] \"POST /RPC2 HTTP/1.1\" 200 -\n",
      "127.0.0.1 - - [25/Oct/2023 16:17:14] \"POST /RPC2 HTTP/1.1\" 200 -\n",
      "127.0.0.1 - - [25/Oct/2023 16:17:17] \"POST /RPC2 HTTP/1.1\" 200 -\n",
      "127.0.0.1 - - [25/Oct/2023 16:17:20] \"POST /RPC2 HTTP/1.1\" 200 -\n",
      "127.0.0.1 - - [25/Oct/2023 16:17:23] \"POST /RPC2 HTTP/1.1\" 200 -\n",
      "127.0.0.1 - - [25/Oct/2023 16:17:26] \"POST /RPC2 HTTP/1.1\" 200 -\n",
      "127.0.0.1 - - [25/Oct/2023 16:17:29] \"POST /RPC2 HTTP/1.1\" 200 -\n"
     ]
    },
    {
     "ename": "KeyboardInterrupt",
     "evalue": "",
     "output_type": "error",
     "traceback": [
      "\u001b[1;31m---------------------------------------------------------------------------\u001b[0m",
      "\u001b[1;31mKeyboardInterrupt\u001b[0m                         Traceback (most recent call last)",
      "Cell \u001b[1;32mIn[1], line 55\u001b[0m\n\u001b[0;32m     51\u001b[0m server_stats\u001b[38;5;241m.\u001b[39mregister_function(get_log_records, \u001b[38;5;124m'\u001b[39m\u001b[38;5;124mget_log_records\u001b[39m\u001b[38;5;124m'\u001b[39m)\n\u001b[0;32m     54\u001b[0m \u001b[38;5;28mprint\u001b[39m (\u001b[38;5;124m\"\u001b[39m\u001b[38;5;124mListening on port 8018...\u001b[39m\u001b[38;5;124m\"\u001b[39m)\n\u001b[1;32m---> 55\u001b[0m server_stats\u001b[38;5;241m.\u001b[39mserve_forever()\n",
      "File \u001b[1;32mC:\\ProgramData\\anaconda3\\Lib\\socketserver.py:233\u001b[0m, in \u001b[0;36mBaseServer.serve_forever\u001b[1;34m(self, poll_interval)\u001b[0m\n\u001b[0;32m    <a href='file:///c%3A/ProgramData/anaconda3/Lib/socketserver.py?line=229'>230</a>\u001b[0m selector\u001b[39m.\u001b[39mregister(\u001b[39mself\u001b[39m, selectors\u001b[39m.\u001b[39mEVENT_READ)\n\u001b[0;32m    <a href='file:///c%3A/ProgramData/anaconda3/Lib/socketserver.py?line=231'>232</a>\u001b[0m \u001b[39mwhile\u001b[39;00m \u001b[39mnot\u001b[39;00m \u001b[39mself\u001b[39m\u001b[39m.\u001b[39m__shutdown_request:\n\u001b[1;32m--> <a href='file:///c%3A/ProgramData/anaconda3/Lib/socketserver.py?line=232'>233</a>\u001b[0m     ready \u001b[39m=\u001b[39m selector\u001b[39m.\u001b[39mselect(poll_interval)\n\u001b[0;32m    <a href='file:///c%3A/ProgramData/anaconda3/Lib/socketserver.py?line=233'>234</a>\u001b[0m     \u001b[39m# bpo-35017: shutdown() called during select(), exit immediately.\u001b[39;00m\n\u001b[0;32m    <a href='file:///c%3A/ProgramData/anaconda3/Lib/socketserver.py?line=234'>235</a>\u001b[0m     \u001b[39mif\u001b[39;00m \u001b[39mself\u001b[39m\u001b[39m.\u001b[39m__shutdown_request:\n",
      "File \u001b[1;32mC:\\ProgramData\\anaconda3\\Lib\\selectors.py:323\u001b[0m, in \u001b[0;36mSelectSelector.select\u001b[1;34m(self, timeout)\u001b[0m\n\u001b[0;32m    <a href='file:///c%3A/ProgramData/anaconda3/Lib/selectors.py?line=320'>321</a>\u001b[0m ready \u001b[39m=\u001b[39m []\n\u001b[0;32m    <a href='file:///c%3A/ProgramData/anaconda3/Lib/selectors.py?line=321'>322</a>\u001b[0m \u001b[39mtry\u001b[39;00m:\n\u001b[1;32m--> <a href='file:///c%3A/ProgramData/anaconda3/Lib/selectors.py?line=322'>323</a>\u001b[0m     r, w, _ \u001b[39m=\u001b[39m \u001b[39mself\u001b[39m\u001b[39m.\u001b[39m_select(\u001b[39mself\u001b[39m\u001b[39m.\u001b[39m_readers, \u001b[39mself\u001b[39m\u001b[39m.\u001b[39m_writers, [], timeout)\n\u001b[0;32m    <a href='file:///c%3A/ProgramData/anaconda3/Lib/selectors.py?line=323'>324</a>\u001b[0m \u001b[39mexcept\u001b[39;00m \u001b[39mInterruptedError\u001b[39;00m:\n\u001b[0;32m    <a href='file:///c%3A/ProgramData/anaconda3/Lib/selectors.py?line=324'>325</a>\u001b[0m     \u001b[39mreturn\u001b[39;00m ready\n",
      "File \u001b[1;32mC:\\ProgramData\\anaconda3\\Lib\\selectors.py:314\u001b[0m, in \u001b[0;36mSelectSelector._select\u001b[1;34m(self, r, w, _, timeout)\u001b[0m\n\u001b[0;32m    <a href='file:///c%3A/ProgramData/anaconda3/Lib/selectors.py?line=312'>313</a>\u001b[0m \u001b[39mdef\u001b[39;00m \u001b[39m_select\u001b[39m(\u001b[39mself\u001b[39m, r, w, _, timeout\u001b[39m=\u001b[39m\u001b[39mNone\u001b[39;00m):\n\u001b[1;32m--> <a href='file:///c%3A/ProgramData/anaconda3/Lib/selectors.py?line=313'>314</a>\u001b[0m     r, w, x \u001b[39m=\u001b[39m select\u001b[39m.\u001b[39mselect(r, w, w, timeout)\n\u001b[0;32m    <a href='file:///c%3A/ProgramData/anaconda3/Lib/selectors.py?line=314'>315</a>\u001b[0m     \u001b[39mreturn\u001b[39;00m r, w \u001b[39m+\u001b[39m x, []\n",
      "\u001b[1;31mKeyboardInterrupt\u001b[0m: "
     ]
    }
   ],
   "source": [
    "\n",
    "from xmlrpc.server import SimpleXMLRPCServer\n",
    "from xmlrpc.server import SimpleXMLRPCRequestHandler\n",
    "\n",
    "import datetime\n",
    "import os\n",
    "\n",
    "\n",
    "class RequestHandler(SimpleXMLRPCRequestHandler):\n",
    "    rpc_paths = ('/RPC2',)\n",
    "\n",
    "LOG_NAME = 'log.csv'\n",
    "\n",
    "server_stats = SimpleXMLRPCServer((\"localhost\", 8018), \n",
    "                            requestHandler=RequestHandler,\n",
    "                            allow_none=True)\n",
    "\n",
    "\n",
    "# Добавление строки в лог. max_log_length - максимальное количество записей журнала. 0 - нет ограничения\n",
    "def add_log(sname, execution_duration_ms, max_log_length):\n",
    "    if max_log_length > 0:\n",
    "        with open(LOG_NAME) as f:\n",
    "            full_log = f.readlines()\n",
    "        \n",
    "        # если есть ограничение, и оно превышено\n",
    "        if len(full_log) >= max_log_length:\n",
    "            filename = f'{datetime.datetime.now().strftime(\"%Y%m%d_%H%M%S\")}log.csv'\n",
    "            \n",
    "            # сохранение старого лога и обнуление файла\n",
    "            with open(filename, 'a') as f_save:\n",
    "                f_save.writelines(full_log)\n",
    "            with open(LOG_NAME, 'w'):\n",
    "                pass\n",
    "    with open(LOG_NAME, 'a') as f:\n",
    "        f.write(f'{str(sname)}, {execution_duration_ms:2f}ms, {datetime.datetime.now().strftime(\"%Y-%m-%d %H:%M:%S\")}\\n')\n",
    "server_stats.register_function(add_log, 'add_log')\n",
    "\n",
    "def get_log_records(events: list[str], datetime_start: str, datetime_end: str):\n",
    "    def str_date_to_serverdate(date: str) -> str:\n",
    "        result = date.replace('-', '').replace(' ', '_').replace(':', '')\n",
    "        return result\n",
    "\n",
    "    log_files_names = filter(lambda n: n.endswith(\".csv\"), os.listdir())\n",
    "    readed_files_names = filter(lambda f: datetime_start <= str_date_to_serverdate(f.split(\"log\")[0]) <= datetime_end, log_files_names)\n",
    "    records = []\n",
    "    for f in readed_files_names:\n",
    "        with open(f) as f:\n",
    "            records += [r.split(\"\\n\")[0] for r in f.readlines()]\n",
    "    return [rec for rec in filter(\n",
    "        lambda r: r.split(',')[0] in events and datetime_start <= r.split(',')[1].strip() <= datetime_end\n",
    "        , records)]\n",
    "server_stats.register_function(get_log_records, 'get_log_records')\n",
    "    \n",
    "\n",
    "print (\"Listening on port 8018...\")\n",
    "server_stats.serve_forever()\n"
   ]
  },
  {
   "cell_type": "code",
   "execution_count": 3,
   "metadata": {},
   "outputs": [
    {
     "data": {
      "text/plain": [
       "[]"
      ]
     },
     "execution_count": 3,
     "metadata": {},
     "output_type": "execute_result"
    }
   ],
   "source": [
    "get_log_records([\"pow\", \"sum\"], \"2023-09-12 18:07\", \"3000\")"
   ]
  }
 ],
 "metadata": {
  "kernelspec": {
   "display_name": "Python 3 (ipykernel)",
   "language": "python",
   "name": "python3"
  },
  "language_info": {
   "codemirror_mode": {
    "name": "ipython",
    "version": 3
   },
   "file_extension": ".py",
   "mimetype": "text/x-python",
   "name": "python",
   "nbconvert_exporter": "python",
   "pygments_lexer": "ipython3",
   "version": "3.11.4"
  }
 },
 "nbformat": 4,
 "nbformat_minor": 2
}
