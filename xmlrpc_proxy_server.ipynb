{
 "cells": [
  {
   "cell_type": "code",
   "execution_count": 1,
   "metadata": {},
   "outputs": [],
   "source": [
    "import xmlrpc.client\n",
    "from xmlrpc.server import SimpleXMLRPCRequestHandler\n",
    "from xmlrpc.server import SimpleXMLRPCServer\n",
    "import time"
   ]
  },
  {
   "cell_type": "code",
   "execution_count": 2,
   "metadata": {},
   "outputs": [],
   "source": [
    "server = xmlrpc.client.ServerProxy(\"http://localhost:8008\")\n",
    "stats_server = xmlrpc.client.ServerProxy(\"http://localhost:8018\")"
   ]
  },
  {
   "cell_type": "code",
   "execution_count": 3,
   "metadata": {},
   "outputs": [],
   "source": [
    "class ServerProxyForLab3:\n",
    "    # обёртка над конкретным вызываемым методом конечного сервера для логирования\n",
    "    class MethodCallLoggerDecorator:\n",
    "        MAX_LOG_LENGTH = 35\n",
    "\n",
    "        def __init__(self, xmlrpc_method, method_name: str):\n",
    "                self.called_method = xmlrpc_method\n",
    "                self.called_method_name = method_name\n",
    "\n",
    "        def __call__(self, *args):\n",
    "            print(f\"Вызов из прокси-сервера функции '{self.called_method_name}'\")\n",
    "\n",
    "            start = time.time()\n",
    "            result = self.called_method(*args)\n",
    "            elapsed_time_ms = (time.time() - start) * 1000\n",
    "\n",
    "            self.add_log(self.called_method_name, elapsed_time_ms, self.MAX_LOG_LENGTH)\n",
    "            return result\n",
    "\n",
    "        # Добавление в лог через прокси-сервер\n",
    "        def add_log(self, method_name: str, elapsed_time_ms: float, max_log_length: int = 0) -> bool:\n",
    "            result = False\n",
    "            try:\n",
    "                stats_server.add_log(method_name, elapsed_time_ms, max_log_length)\n",
    "                result = True\n",
    "            except ConnectionRefusedError:\n",
    "                print('Stats server connection refused error')\n",
    "            return result\n",
    "\n",
    "    # для того, чтобы вызов функций выглядел так, будто они существуют у нашего proxy-сервера\n",
    "    def _dispatch(self, name, params):\n",
    "        logger_decorator = ServerProxyForLab3.MethodCallLoggerDecorator(server.__getattr__(name), name)\n",
    "        return logger_decorator(*params)\n",
    "\n",
    "    def __getattr__(self, name):\n",
    "        return ServerProxyForLab3.MethodCallLoggerDecorator(server.__getattr__(name), name)\n"
   ]
  },
  {
   "cell_type": "code",
   "execution_count": 4,
   "metadata": {},
   "outputs": [],
   "source": [
    "class RequestHandler(SimpleXMLRPCRequestHandler):\n",
    "    rpc_paths = ('/RPC2',)\n",
    "myproxyserver = SimpleXMLRPCServer((\"localhost\", 8028),\n",
    "                                    requestHandler=RequestHandler,\n",
    "                                    allow_none=True)\n",
    "myproxyserver.register_introspection_functions()\n",
    "myproxyserver.register_instance(ServerProxyForLab3())"
   ]
  },
  {
   "cell_type": "code",
   "execution_count": 5,
   "metadata": {},
   "outputs": [
    {
     "name": "stdout",
     "output_type": "stream",
     "text": [
      "Вызов из прокси-сервера функции 'ping'\n",
      "Stats server connection refused error\n"
     ]
    },
    {
     "name": "stderr",
     "output_type": "stream",
     "text": [
      "127.0.0.1 - - [25/Oct/2023 16:16:59] \"POST /RPC2 HTTP/1.1\" 200 -\n"
     ]
    },
    {
     "name": "stdout",
     "output_type": "stream",
     "text": [
      "Вызов из прокси-сервера функции 'now'\n"
     ]
    },
    {
     "name": "stderr",
     "output_type": "stream",
     "text": [
      "127.0.0.1 - - [25/Oct/2023 16:17:02] \"POST /RPC2 HTTP/1.1\" 200 -\n"
     ]
    },
    {
     "name": "stdout",
     "output_type": "stream",
     "text": [
      "Вызов из прокси-сервера функции 'type'\n"
     ]
    },
    {
     "name": "stderr",
     "output_type": "stream",
     "text": [
      "127.0.0.1 - - [25/Oct/2023 16:17:05] \"POST /RPC2 HTTP/1.1\" 200 -\n"
     ]
    },
    {
     "name": "stdout",
     "output_type": "stream",
     "text": [
      "Вызов из прокси-сервера функции 'type'\n"
     ]
    },
    {
     "name": "stderr",
     "output_type": "stream",
     "text": [
      "127.0.0.1 - - [25/Oct/2023 16:17:08] \"POST /RPC2 HTTP/1.1\" 200 -\n"
     ]
    },
    {
     "name": "stdout",
     "output_type": "stream",
     "text": [
      "Вызов из прокси-сервера функции 'type'\n"
     ]
    },
    {
     "name": "stderr",
     "output_type": "stream",
     "text": [
      "127.0.0.1 - - [25/Oct/2023 16:17:11] \"POST /RPC2 HTTP/1.1\" 200 -\n"
     ]
    },
    {
     "name": "stdout",
     "output_type": "stream",
     "text": [
      "Вызов из прокси-сервера функции 'type'\n"
     ]
    },
    {
     "name": "stderr",
     "output_type": "stream",
     "text": [
      "127.0.0.1 - - [25/Oct/2023 16:17:14] \"POST /RPC2 HTTP/1.1\" 200 -\n"
     ]
    },
    {
     "name": "stdout",
     "output_type": "stream",
     "text": [
      "Вызов из прокси-сервера функции 'type'\n"
     ]
    },
    {
     "name": "stderr",
     "output_type": "stream",
     "text": [
      "127.0.0.1 - - [25/Oct/2023 16:17:17] \"POST /RPC2 HTTP/1.1\" 200 -\n"
     ]
    },
    {
     "name": "stdout",
     "output_type": "stream",
     "text": [
      "Вызов из прокси-сервера функции 'type'\n"
     ]
    },
    {
     "name": "stderr",
     "output_type": "stream",
     "text": [
      "127.0.0.1 - - [25/Oct/2023 16:17:20] \"POST /RPC2 HTTP/1.1\" 200 -\n"
     ]
    },
    {
     "name": "stdout",
     "output_type": "stream",
     "text": [
      "Вызов из прокси-сервера функции 'type'\n"
     ]
    },
    {
     "name": "stderr",
     "output_type": "stream",
     "text": [
      "127.0.0.1 - - [25/Oct/2023 16:17:23] \"POST /RPC2 HTTP/1.1\" 200 -\n"
     ]
    },
    {
     "name": "stdout",
     "output_type": "stream",
     "text": [
      "Вызов из прокси-сервера функции 'sum'\n"
     ]
    },
    {
     "name": "stderr",
     "output_type": "stream",
     "text": [
      "127.0.0.1 - - [25/Oct/2023 16:17:26] \"POST /RPC2 HTTP/1.1\" 200 -\n"
     ]
    },
    {
     "name": "stdout",
     "output_type": "stream",
     "text": [
      "Вызов из прокси-сервера функции 'pow'\n"
     ]
    },
    {
     "name": "stderr",
     "output_type": "stream",
     "text": [
      "127.0.0.1 - - [25/Oct/2023 16:17:29] \"POST /RPC2 HTTP/1.1\" 200 -\n"
     ]
    },
    {
     "ename": "KeyboardInterrupt",
     "evalue": "",
     "output_type": "error",
     "traceback": [
      "\u001b[1;31m---------------------------------------------------------------------------\u001b[0m",
      "\u001b[1;31mKeyboardInterrupt\u001b[0m                         Traceback (most recent call last)",
      "Cell \u001b[1;32mIn[5], line 1\u001b[0m\n\u001b[1;32m----> 1\u001b[0m myproxyserver\u001b[38;5;241m.\u001b[39mserve_forever()\n",
      "File \u001b[1;32mC:\\ProgramData\\anaconda3\\Lib\\socketserver.py:233\u001b[0m, in \u001b[0;36mBaseServer.serve_forever\u001b[1;34m(self, poll_interval)\u001b[0m\n\u001b[0;32m    <a href='file:///c%3A/ProgramData/anaconda3/Lib/socketserver.py?line=229'>230</a>\u001b[0m selector\u001b[39m.\u001b[39mregister(\u001b[39mself\u001b[39m, selectors\u001b[39m.\u001b[39mEVENT_READ)\n\u001b[0;32m    <a href='file:///c%3A/ProgramData/anaconda3/Lib/socketserver.py?line=231'>232</a>\u001b[0m \u001b[39mwhile\u001b[39;00m \u001b[39mnot\u001b[39;00m \u001b[39mself\u001b[39m\u001b[39m.\u001b[39m__shutdown_request:\n\u001b[1;32m--> <a href='file:///c%3A/ProgramData/anaconda3/Lib/socketserver.py?line=232'>233</a>\u001b[0m     ready \u001b[39m=\u001b[39m selector\u001b[39m.\u001b[39mselect(poll_interval)\n\u001b[0;32m    <a href='file:///c%3A/ProgramData/anaconda3/Lib/socketserver.py?line=233'>234</a>\u001b[0m     \u001b[39m# bpo-35017: shutdown() called during select(), exit immediately.\u001b[39;00m\n\u001b[0;32m    <a href='file:///c%3A/ProgramData/anaconda3/Lib/socketserver.py?line=234'>235</a>\u001b[0m     \u001b[39mif\u001b[39;00m \u001b[39mself\u001b[39m\u001b[39m.\u001b[39m__shutdown_request:\n",
      "File \u001b[1;32mC:\\ProgramData\\anaconda3\\Lib\\selectors.py:323\u001b[0m, in \u001b[0;36mSelectSelector.select\u001b[1;34m(self, timeout)\u001b[0m\n\u001b[0;32m    <a href='file:///c%3A/ProgramData/anaconda3/Lib/selectors.py?line=320'>321</a>\u001b[0m ready \u001b[39m=\u001b[39m []\n\u001b[0;32m    <a href='file:///c%3A/ProgramData/anaconda3/Lib/selectors.py?line=321'>322</a>\u001b[0m \u001b[39mtry\u001b[39;00m:\n\u001b[1;32m--> <a href='file:///c%3A/ProgramData/anaconda3/Lib/selectors.py?line=322'>323</a>\u001b[0m     r, w, _ \u001b[39m=\u001b[39m \u001b[39mself\u001b[39m\u001b[39m.\u001b[39m_select(\u001b[39mself\u001b[39m\u001b[39m.\u001b[39m_readers, \u001b[39mself\u001b[39m\u001b[39m.\u001b[39m_writers, [], timeout)\n\u001b[0;32m    <a href='file:///c%3A/ProgramData/anaconda3/Lib/selectors.py?line=323'>324</a>\u001b[0m \u001b[39mexcept\u001b[39;00m \u001b[39mInterruptedError\u001b[39;00m:\n\u001b[0;32m    <a href='file:///c%3A/ProgramData/anaconda3/Lib/selectors.py?line=324'>325</a>\u001b[0m     \u001b[39mreturn\u001b[39;00m ready\n",
      "File \u001b[1;32mC:\\ProgramData\\anaconda3\\Lib\\selectors.py:314\u001b[0m, in \u001b[0;36mSelectSelector._select\u001b[1;34m(self, r, w, _, timeout)\u001b[0m\n\u001b[0;32m    <a href='file:///c%3A/ProgramData/anaconda3/Lib/selectors.py?line=312'>313</a>\u001b[0m \u001b[39mdef\u001b[39;00m \u001b[39m_select\u001b[39m(\u001b[39mself\u001b[39m, r, w, _, timeout\u001b[39m=\u001b[39m\u001b[39mNone\u001b[39;00m):\n\u001b[1;32m--> <a href='file:///c%3A/ProgramData/anaconda3/Lib/selectors.py?line=313'>314</a>\u001b[0m     r, w, x \u001b[39m=\u001b[39m select\u001b[39m.\u001b[39mselect(r, w, w, timeout)\n\u001b[0;32m    <a href='file:///c%3A/ProgramData/anaconda3/Lib/selectors.py?line=314'>315</a>\u001b[0m     \u001b[39mreturn\u001b[39;00m r, w \u001b[39m+\u001b[39m x, []\n",
      "\u001b[1;31mKeyboardInterrupt\u001b[0m: "
     ]
    }
   ],
   "source": [
    "myproxyserver.serve_forever()"
   ]
  }
 ],
 "metadata": {
  "interpreter": {
   "hash": "3de59ade2ee4eabf8d6554090db31bdd94608df00f05391c2d316a7da62ee3f6"
  },
  "kernelspec": {
   "display_name": "Python 3.11.4 ('base')",
   "language": "python",
   "name": "python3"
  },
  "language_info": {
   "codemirror_mode": {
    "name": "ipython",
    "version": 3
   },
   "file_extension": ".py",
   "mimetype": "text/x-python",
   "name": "python",
   "nbconvert_exporter": "python",
   "pygments_lexer": "ipython3",
   "version": "3.11.4"
  },
  "orig_nbformat": 4
 },
 "nbformat": 4,
 "nbformat_minor": 2
}
