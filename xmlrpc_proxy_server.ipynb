{
 "cells": [
  {
   "cell_type": "code",
   "execution_count": 1,
   "metadata": {},
   "outputs": [],
   "source": [
    "import xmlrpc.client\n",
    "from xmlrpc.server import SimpleXMLRPCRequestHandler\n",
    "from xmlrpc.server import SimpleXMLRPCServer\n",
    "import time"
   ]
  },
  {
   "cell_type": "code",
   "execution_count": 2,
   "metadata": {},
   "outputs": [],
   "source": [
    "server = xmlrpc.client.ServerProxy(\"http://localhost:8008\")\n",
    "stats_server = xmlrpc.client.ServerProxy(\"http://localhost:8018\")"
   ]
  },
  {
   "cell_type": "code",
   "execution_count": 3,
   "metadata": {},
   "outputs": [],
   "source": [
    "class ServerProxyForLab3:\n",
    "    # обёртка над конкретным вызываемым методом конечного сервера для логирования\n",
    "    class MethodCallLoggerDecorator:\n",
    "        MAX_LOG_LENGTH = 35\n",
    "\n",
    "        def __init__(self, xmlrpc_method, method_name: str):\n",
    "                self.called_method = xmlrpc_method\n",
    "                self.called_method_name = method_name\n",
    "\n",
    "        def __call__(self, *args):\n",
    "            print(f\"Вызов из прокси-сервера функции '{self.called_method_name}'\")\n",
    "\n",
    "            start = time.time()\n",
    "            print([*args])\n",
    "            result = self.called_method(*args)\n",
    "            elapsed_time_ms = (time.time() - start) * 1000\n",
    "\n",
    "            print(\"Before add log\")\n",
    "            self.add_log(self.called_method_name, elapsed_time_ms, self.MAX_LOG_LENGTH)\n",
    "            return result\n",
    "\n",
    "        # Добавление в лог через прокси-сервер\n",
    "        def add_log(self, method_name: str, elapsed_time_ms: float, max_log_length: int = 0) -> bool:\n",
    "            result = False\n",
    "            try:\n",
    "                stats_server.add_log(method_name, elapsed_time_ms, max_log_length)\n",
    "                result = True\n",
    "            except ConnectionRefusedError:\n",
    "                print('Stats server connection refused error')\n",
    "            return result\n",
    "\n",
    "    # для того, чтобы вызов функций выглядел так, будто они существуют у нашего proxy-сервера\n",
    "    def _dispatch(self, name, params):\n",
    "        logger_decorator = ServerProxyForLab3.MethodCallLoggerDecorator(server.__getattr__(name), name)\n",
    "        return logger_decorator(*params)\n",
    "\n",
    "    def __getattr__(self, name):\n",
    "        return ServerProxyForLab3.MethodCallLoggerDecorator(server.__getattr__(name), name)\n"
   ]
  },
  {
   "cell_type": "code",
   "execution_count": 4,
   "metadata": {},
   "outputs": [],
   "source": [
    "class RequestHandler(SimpleXMLRPCRequestHandler):\n",
    "    rpc_paths = ('/RPC2',)\n",
    "myproxyserver = SimpleXMLRPCServer((\"localhost\", 8028),\n",
    "                                    requestHandler=RequestHandler,\n",
    "                                    allow_none=True)\n",
    "myproxyserver.register_introspection_functions()\n",
    "myproxyserver.register_instance(ServerProxyForLab3())"
   ]
  },
  {
   "cell_type": "code",
   "execution_count": 5,
   "metadata": {},
   "outputs": [
    {
     "name": "stdout",
     "output_type": "stream",
     "text": [
      "Вызов из прокси-сервера функции 'ping'\n",
      "[]\n",
      "Before add log\n"
     ]
    },
    {
     "name": "stderr",
     "output_type": "stream",
     "text": [
      "127.0.0.1 - - [07/Nov/2023 19:08:59] \"POST /RPC2 HTTP/1.1\" 200 -\n"
     ]
    },
    {
     "name": "stdout",
     "output_type": "stream",
     "text": [
      "Вызов из прокси-сервера функции 'now'\n",
      "[]\n",
      "Before add log\n"
     ]
    },
    {
     "name": "stderr",
     "output_type": "stream",
     "text": [
      "127.0.0.1 - - [07/Nov/2023 19:09:02] \"POST /RPC2 HTTP/1.1\" 200 -\n"
     ]
    },
    {
     "name": "stdout",
     "output_type": "stream",
     "text": [
      "Вызов из прокси-сервера функции 'type'\n",
      "[2]\n",
      "Before add log\n"
     ]
    },
    {
     "name": "stderr",
     "output_type": "stream",
     "text": [
      "127.0.0.1 - - [07/Nov/2023 19:09:05] \"POST /RPC2 HTTP/1.1\" 200 -\n"
     ]
    },
    {
     "name": "stdout",
     "output_type": "stream",
     "text": [
      "Вызов из прокси-сервера функции 'type'\n",
      "[2.0]\n",
      "Before add log\n"
     ]
    },
    {
     "name": "stderr",
     "output_type": "stream",
     "text": [
      "127.0.0.1 - - [07/Nov/2023 19:09:08] \"POST /RPC2 HTTP/1.1\" 200 -\n"
     ]
    },
    {
     "name": "stdout",
     "output_type": "stream",
     "text": [
      "Вызов из прокси-сервера функции 'type'\n",
      "['My string']\n",
      "Before add log\n"
     ]
    },
    {
     "name": "stderr",
     "output_type": "stream",
     "text": [
      "127.0.0.1 - - [07/Nov/2023 19:09:11] \"POST /RPC2 HTTP/1.1\" 200 -\n"
     ]
    },
    {
     "name": "stdout",
     "output_type": "stream",
     "text": [
      "Вызов из прокси-сервера функции 'type'\n",
      "['My string']\n",
      "Before add log\n"
     ]
    },
    {
     "name": "stderr",
     "output_type": "stream",
     "text": [
      "127.0.0.1 - - [07/Nov/2023 19:09:14] \"POST /RPC2 HTTP/1.1\" 200 -\n"
     ]
    },
    {
     "name": "stdout",
     "output_type": "stream",
     "text": [
      "Вызов из прокси-сервера функции 'type'\n",
      "[[1, 2, 3]]\n",
      "Before add log\n"
     ]
    },
    {
     "name": "stderr",
     "output_type": "stream",
     "text": [
      "127.0.0.1 - - [07/Nov/2023 19:09:18] \"POST /RPC2 HTTP/1.1\" 200 -\n"
     ]
    },
    {
     "name": "stdout",
     "output_type": "stream",
     "text": [
      "Вызов из прокси-сервера функции 'type'\n",
      "[['one', 'two', 'three']]\n",
      "Before add log\n"
     ]
    },
    {
     "name": "stderr",
     "output_type": "stream",
     "text": [
      "127.0.0.1 - - [07/Nov/2023 19:09:21] \"POST /RPC2 HTTP/1.1\" 200 -\n"
     ]
    },
    {
     "name": "stdout",
     "output_type": "stream",
     "text": [
      "Вызов из прокси-сервера функции 'type'\n",
      "[[1, 2, '3']]\n",
      "Before add log\n"
     ]
    },
    {
     "name": "stderr",
     "output_type": "stream",
     "text": [
      "127.0.0.1 - - [07/Nov/2023 19:09:24] \"POST /RPC2 HTTP/1.1\" 200 -\n"
     ]
    },
    {
     "name": "stdout",
     "output_type": "stream",
     "text": [
      "Вызов из прокси-сервера функции 'sum'\n",
      "[2, 3]\n",
      "Before add log\n"
     ]
    },
    {
     "name": "stderr",
     "output_type": "stream",
     "text": [
      "127.0.0.1 - - [07/Nov/2023 19:09:27] \"POST /RPC2 HTTP/1.1\" 200 -\n"
     ]
    },
    {
     "name": "stdout",
     "output_type": "stream",
     "text": [
      "Вызов из прокси-сервера функции 'pow'\n",
      "[2, 3]\n",
      "Before add log\n"
     ]
    },
    {
     "name": "stderr",
     "output_type": "stream",
     "text": [
      "127.0.0.1 - - [07/Nov/2023 19:09:30] \"POST /RPC2 HTTP/1.1\" 200 -\n"
     ]
    },
    {
     "name": "stdout",
     "output_type": "stream",
     "text": [
      "Вызов из прокси-сервера функции 'send_back_binary'\n",
      "[<xmlrpc.client.Binary object at 0x0000022741E86D10>]\n",
      "Before add log\n"
     ]
    },
    {
     "name": "stderr",
     "output_type": "stream",
     "text": [
      "127.0.0.1 - - [07/Nov/2023 19:09:35] \"POST /RPC2 HTTP/1.1\" 200 -\n"
     ]
    },
    {
     "name": "stdout",
     "output_type": "stream",
     "text": [
      "Вызов из прокси-сервера функции 'color_inversion'\n",
      "[<xmlrpc.client.Binary object at 0x0000022741E67610>]\n",
      "Before add log\n"
     ]
    },
    {
     "name": "stderr",
     "output_type": "stream",
     "text": [
      "127.0.0.1 - - [07/Nov/2023 19:09:40] \"POST /RPC2 HTTP/1.1\" 200 -\n"
     ]
    },
    {
     "name": "stdout",
     "output_type": "stream",
     "text": [
      "Вызов из прокси-сервера функции 'color_inversion'\n",
      "[<xmlrpc.client.Binary object at 0x0000022741E77ED0>]\n",
      "Before add log\n"
     ]
    },
    {
     "name": "stderr",
     "output_type": "stream",
     "text": [
      "127.0.0.1 - - [07/Nov/2023 19:09:45] \"POST /RPC2 HTTP/1.1\" 200 -\n"
     ]
    },
    {
     "name": "stdout",
     "output_type": "stream",
     "text": [
      "Вызов из прокси-сервера функции 'threshold_binarization'\n",
      "[<xmlrpc.client.Binary object at 0x00000227421512D0>, 70]\n",
      "Before add log\n"
     ]
    },
    {
     "name": "stderr",
     "output_type": "stream",
     "text": [
      "127.0.0.1 - - [07/Nov/2023 19:09:49] \"POST /RPC2 HTTP/1.1\" 200 -\n"
     ]
    },
    {
     "name": "stdout",
     "output_type": "stream",
     "text": [
      "Вызов из прокси-сервера функции 'threshold_binarization'\n",
      "[<xmlrpc.client.Binary object at 0x0000022741E88C90>, 70]\n"
     ]
    },
    {
     "name": "stderr",
     "output_type": "stream",
     "text": [
      "127.0.0.1 - - [07/Nov/2023 19:09:52] \"POST /RPC2 HTTP/1.1\" 200 -\n"
     ]
    }
   ],
   "source": [
    "myproxyserver.serve_forever()"
   ]
  }
 ],
 "metadata": {
  "interpreter": {
   "hash": "3de59ade2ee4eabf8d6554090db31bdd94608df00f05391c2d316a7da62ee3f6"
  },
  "kernelspec": {
   "display_name": "Python 3.11.4 ('base')",
   "language": "python",
   "name": "python3"
  },
  "language_info": {
   "codemirror_mode": {
    "name": "ipython",
    "version": 3
   },
   "file_extension": ".py",
   "mimetype": "text/x-python",
   "name": "python",
   "nbconvert_exporter": "python",
   "pygments_lexer": "ipython3",
   "version": "3.11.4"
  },
  "orig_nbformat": 4
 },
 "nbformat": 4,
 "nbformat_minor": 2
}
