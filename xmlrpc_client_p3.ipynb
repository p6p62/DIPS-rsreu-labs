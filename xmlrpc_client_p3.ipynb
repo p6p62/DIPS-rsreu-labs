{
 "cells": [
  {
   "cell_type": "markdown",
   "metadata": {},
   "source": [
    "#### Файл клиента xmlrpc_client_p3.ipynb на Python 3"
   ]
  },
  {
   "cell_type": "code",
   "execution_count": 1,
   "metadata": {},
   "outputs": [],
   "source": [
    "import xmlrpc.client"
   ]
  },
  {
   "cell_type": "code",
   "execution_count": 2,
   "metadata": {},
   "outputs": [],
   "source": [
    "proxy_server = xmlrpc.client.ServerProxy(\"http://localhost:8028\")\n",
    "stats_server = xmlrpc.client.ServerProxy(\"http://localhost:8018\")"
   ]
  },
  {
   "cell_type": "code",
   "execution_count": 3,
   "metadata": {},
   "outputs": [
    {
     "name": "stdout",
     "output_type": "stream",
     "text": [
      "View, type, value: ['2', \"<class 'int'>\", 2]\n",
      "View, type, value: ['2.0', \"<class 'float'>\", 2.0]\n",
      "View, type, value: ['My string', \"<class 'str'>\", 'My string']\n",
      "View, type, value: ['My string', \"<class 'str'>\", 'My string']\n",
      "View, type, value: ['[1, 2, 3]', \"<class 'list'>\", [1, 2, 3]]\n",
      "View, type, value: [\"['one', 'two', 'three']\", \"<class 'list'>\", ['one', 'two', 'three']]\n",
      "View, type, value: [\"[1, 2, '3']\", \"<class 'list'>\", [1, 2, '3']]\n",
      "Sum 2 + 3 : 5\n",
      "Pow 2^3:  8\n"
     ]
    }
   ],
   "source": [
    "# print(proxy_server.system.listMethods())\n",
    "\n",
    "print ('Ping:', proxy_server.ping())\n",
    "print ('Server datetime:', proxy_server.now())\n",
    "print ('View, type, value:', proxy_server.type(2))\n",
    "print ('View, type, value:', proxy_server.type(2.))\n",
    "print ('View, type, value:', proxy_server.type('My string'))\n",
    "print ('View, type, value:', proxy_server.type(\"My string\"))\n",
    "print ('View, type, value:', proxy_server.type([1,2,3]))\n",
    "print ('View, type, value:', proxy_server.type([\"one\", \"two\", \"three\"]))\n",
    "print ('View, type, value:', proxy_server.type((1,2,\"3\")))\n",
    "print ('Sum 2 + 3 :', proxy_server.sum(2, 3))\n",
    "print ('Pow 2^3: ', proxy_server.pow(2, 3))"
   ]
  },
  {
   "cell_type": "code",
   "execution_count": 4,
   "metadata": {},
   "outputs": [
    {
     "name": "stdout",
     "output_type": "stream",
     "text": [
      "[['now', '1002.972841ms', '2023-10-25 16:17:02'], ['type', '1004.906178ms', '2023-10-25 16:17:05'], ['type', '1001.575708ms', '2023-10-25 16:17:08'], ['type', '1002.090931ms', '2023-10-25 16:17:11'], ['type', '1003.049135ms', '2023-10-25 16:17:14'], ['type', '919.032812ms', '2023-10-25 16:17:17'], ['type', '1003.664732ms', '2023-10-25 16:17:20'], ['type', '1002.866507ms', '2023-10-25 16:17:23'], ['sum', '985.060930ms', '2023-10-25 16:17:26'], ['pow', '1003.242254ms', '2023-10-25 16:17:29']]\n"
     ]
    }
   ],
   "source": [
    "print(stats_server.get_log_records([\"pow\", \"sum\", \"now\"], \"2023-09-27 18:07\", \"3000\"))"
   ]
  }
 ],
 "metadata": {
  "kernelspec": {
   "display_name": "Python 3 (ipykernel)",
   "language": "python",
   "name": "python3"
  },
  "language_info": {
   "codemirror_mode": {
    "name": "ipython",
    "version": 3
   },
   "file_extension": ".py",
   "mimetype": "text/x-python",
   "name": "python",
   "nbconvert_exporter": "python",
   "pygments_lexer": "ipython3",
   "version": "3.11.4"
  }
 },
 "nbformat": 4,
 "nbformat_minor": 2
}
